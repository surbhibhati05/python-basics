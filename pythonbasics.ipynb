{
  "nbformat": 4,
  "nbformat_minor": 0,
  "metadata": {
    "colab": {
      "provenance": [],
      "toc_visible": true
    },
    "kernelspec": {
      "name": "python3",
      "display_name": "Python 3"
    },
    "language_info": {
      "name": "python"
    }
  },
  "cells": [
    {
      "cell_type": "markdown",
      "source": [
        "# PYTHON BASICS\n",
        "\n"
      ],
      "metadata": {
        "id": "muRgT5WIdqqN"
      }
    },
    {
      "cell_type": "markdown",
      "source": [
        "1.What is python, and why it is popular?\n",
        "  - Python is a programming language which is eazy to learn, versatile and can be used for many different applications. which makes it popular among developers and programmers.\n",
        "  - It is compatible with various programming paradigms, such as procedural, object-oriented, and functional programming.\n",
        "  - It has a large and active community of developers, an extensive standard library, and third-party packages for various domains.\n",
        "  - It is efficient,versatile, has large community, has rich ecosystem and can run on many platforms.\n",
        "\n",
        "2.What is an interpreter in Python?\n",
        "  - Its a programme that reads and execute python code. It translates Python code into bytecode, which is a lower-level representation of the code that the Python Virtual Machine can execute.\n",
        "  - Programmers can use the interpreter to test and run code line by line\n",
        "  - The interpreter can be used in interactive mode, where it prompts for the next command.\n",
        "\n",
        "3.What are pre-defined keywords in Python?\n",
        "   - Pre-defined Keywords are the words that hold a special meaning and have specific purpose, these are reserved words in Python that have special meanings and cannot be used as identifiers (variable names, function names, etc.).\n",
        "   - Examples of keywords include if, else, while, for, def, class, import,try, except, return, True, False, None, etc.\n",
        "   - Keywords are case-sensitive and cannot be redefined or overridden\n",
        "   within a Python program.\n",
        "\n",
        " 4.Can keywords be used as variable names?\n",
        "   - No, keywords cannot be used as variable names as Keywords are reserved\n",
        "   words.\n",
        "   - Variable names are symbolic names associated with an abstract\n",
        "  storage location.\n",
        "   - They are used to store value or the variable itself.\n",
        "   Variable names must start with a letter or underscore, and can only contain alpha-numeric characters and underscores.\n",
        "\n",
        " 5.What is mutability in Python?\n",
        "   - mutability is the ability of objects to change their values. Object whose state or value can be changed after they are created are called as mutable objects.\n",
        "\n",
        " 6.Why are lists mutable, but tuples are immutable?\n",
        "   - Lists can be modified or changed after they are created that's why they are mutable.The elements of a list can be added or removed or modified without creating a new files\n",
        "   - Tuples as list can not be changed that's why they are immutable.Tuples are not modifiable in nature.\n",
        "\n",
        " 7.What is the difference between “==” and “is” operators in Python?\n",
        "   - “==” compares the value of two objects. For eg: “==” would return true if the values of two objects are same.\n",
        "   - “is” compares the identites of two objects. For eg: “is” would return true if two variables point to the same objects.\n",
        "\n",
        " 8.What are logical operators in Python?\n",
        "   - Logical operators are:- \"and\",\"or\",and \"not\".\n",
        "   - \"and\":- Returns True if both operands are true. For eg: x < 5 and x < 10.\n",
        "   - \"or\":- Returns True if atleast one operand is true. For eg: x < 5 or x < 4.\n",
        "   - \"not\":- Returns the inverse the boolean value of the operand. For eg:\n",
        "   not (x < 5 and x < 10)\n",
        "\n",
        " 9.What is type casting in Python?\n",
        "   - The process of changing the data type of a value/objects.\n",
        "   - Python provides built-in functions for type casting, such as int(), float(), str(), list(), tuple(), dict(), etc.\n",
        "   - Type casting is often necessary for performing arithmetic operations, data manipulation, and input/output operations in Python programs.\n",
        "\n",
        " 10.What is the difference between implicit and explicit type casting?\n",
        "   - Implicit Type Casting:- It is automatic, the compiler or interpreter automatically changes the data type of a value. Used when converting smaller data types to larger data types, or when performing operations on values of different types.  \n",
        "   - Explicit Type Casting:- It is manual,the programmer manually changes the data type of a value. Used when the programmer needs to ensure that a value is of a certain type, or when information might be lost in the conversion.\n",
        "\n",
        " 11.What is the purpose of conditional statements in Python?\n",
        "    - Conditionals in Python are used to execute code based on the evaluation of one or more conditions.They help you to code deciosions based on some pre-conditions.\n",
        "    - Python supports conditional statements such as if, elif (else if), and else to control the flow of execution.\n",
        "    - Conditionals can be nested to handle multiple conditions and control different branches of execution based on the outcome of logical expressions.\n",
        "\n",
        " 12.How does the elif statement work?\n",
        "     - \"elif\" stands for \"else if\". It can be used in conditional statements to check for multiple conditions.\n",
        "     - For example:-if the first condition is false, it moves on to the next “elif” statement to check if that condition is true.\n",
        "\n",
        " 13.What is the difference between for and while loops?\n",
        "     - \"for loop\":- Used to iterate over a sequence of elements.\n",
        "        > The keyword used in this control flow statement is \"for\".\n",
        "        > When the number of iterations is already known, the for loop is\n",
        "         used.\n",
        "     - \"while loop\":- It repeatedly execute a block of code until a\n",
        "        specified condition become False.\n",
        "        > This loop is represented by the keyword \"while\".\n",
        "        > When the number of iterations is unknown, a while loop is used. The statement is repeated until the Boolean value is false.\n",
        "\n",
        "   14.Describe a scenario where a while loop is more suitable than a for loop.   \n",
        "     - A while loop is more suitable than a for loop when you don't know the exact number of iterations in advance, and the loop should continue running until a specific condition is met.\n",
        "     - For example, consider a situation where you're reading input from a user until they provide valid data. You don't know beforehand how many times the user will need to be prompted, so a while loop is a good fit.\n",
        "\n",
        "      ## Asking the user for a valid input\n",
        "       user_input = \"\"\n",
        "       while user_input != \"yes\" and user_input != \"no\":\n",
        "       user_input = input(\"Please type 'yes' or 'no': \")\n",
        "       print(\"You entered:\", user_input)\n",
        "\n",
        "     - In this case, the loop will keep asking the user for input until they type either \"yes\" or \"no\". Since you don't know how many attempts the user will need, a while loop is more appropriate than a for loop, which typically requires knowing the number of iterations in advance.\n",
        "\n",
        "\n"
      ],
      "metadata": {
        "id": "YmR4KjEqeNE4"
      }
    },
    {
      "cell_type": "markdown",
      "source": [],
      "metadata": {
        "id": "4MvVT1qAdxuW"
      }
    },
    {
      "cell_type": "code",
      "source": [
        "#1.Write a Python program to print \"Hello, World\"\n",
        "print(\"Hello,world!\")"
      ],
      "metadata": {
        "colab": {
          "base_uri": "https://localhost:8080/"
        },
        "id": "83BZNbULdwSz",
        "outputId": "10792260-43a1-4c8d-974c-b7a3607d2765"
      },
      "execution_count": 3,
      "outputs": [
        {
          "output_type": "stream",
          "name": "stdout",
          "text": [
            "Hello,world!\n"
          ]
        }
      ]
    },
    {
      "cell_type": "code",
      "source": [
        "#2.Write a Python program that displays your name and age.\n",
        "name= \"Surbhi\"\n",
        "age= \"26\"\n",
        "print(\"Name:\",\"Surbhi\")\n",
        "print(\"age:\",26)"
      ],
      "metadata": {
        "colab": {
          "base_uri": "https://localhost:8080/"
        },
        "id": "a-2GEOam6afD",
        "outputId": "66d58663-5912-4308-c18c-2c4b6ce06e23"
      },
      "execution_count": 7,
      "outputs": [
        {
          "output_type": "stream",
          "name": "stdout",
          "text": [
            "Name: Surbhi\n",
            "age: 26\n"
          ]
        }
      ]
    },
    {
      "cell_type": "markdown",
      "source": [],
      "metadata": {
        "id": "2r4FxtUZ7tc8"
      }
    },
    {
      "cell_type": "code",
      "source": [
        "#3.Write code to print all the pre-defined keywords in Python using the keyword library.\n",
        "import keyword\n",
        "print(keyword.kwlist)"
      ],
      "metadata": {
        "colab": {
          "base_uri": "https://localhost:8080/"
        },
        "id": "JCZXTOWf9i1J",
        "outputId": "8e62241f-7a2d-4d21-ad56-7ecd37157cf4"
      },
      "execution_count": 10,
      "outputs": [
        {
          "output_type": "stream",
          "name": "stdout",
          "text": [
            "['False', 'None', 'True', 'and', 'as', 'assert', 'async', 'await', 'break', 'class', 'continue', 'def', 'del', 'elif', 'else', 'except', 'finally', 'for', 'from', 'global', 'if', 'import', 'in', 'is', 'lambda', 'nonlocal', 'not', 'or', 'pass', 'raise', 'return', 'try', 'while', 'with', 'yield']\n"
          ]
        }
      ]
    },
    {
      "cell_type": "code",
      "source": [],
      "metadata": {
        "id": "ltTTPXtZAnCU"
      },
      "execution_count": null,
      "outputs": []
    },
    {
      "cell_type": "code",
      "source": [
        "\n",
        "#4.Write a program that checks if a given word is a Python keyword.\n",
        "import keyword\n",
        "word = input(\"enter a word: \")\n",
        "if keyword.iskeyword(word):\n",
        "    print(word, \"is a Python keyword.\")\n",
        "else:\n",
        "    print(word, \"is not a Python keyword.\")\n",
        "\n"
      ],
      "metadata": {
        "colab": {
          "base_uri": "https://localhost:8080/"
        },
        "id": "SLHerypw-nH7",
        "outputId": "9710b606-fee5-474f-f27a-c2c23803438b"
      },
      "execution_count": 22,
      "outputs": [
        {
          "output_type": "stream",
          "name": "stdout",
          "text": [
            "enter a word: True\n",
            "True is a Python keyword.\n"
          ]
        }
      ]
    },
    {
      "cell_type": "code",
      "source": [
        "#5.Create a list and tuple in Python, and demonstrate how attempting to change an element works differently for each.\n",
        "my_list = [1, 2, 3, 4, 5]\n",
        "print(\"original list:\", my_list)\n",
        "my_list[0] = 10\n",
        "print(\"modified list:\", my_list)\n",
        "my_tuple = (1, 2, 3, 4, 5)\n",
        "print(\"original tuple:\", my_tuple)\n",
        "try:\n",
        "   my_tuple[0] = 10\n",
        "except TypeError as e:\n",
        "    print(\"Error when modifying tuple:\", e)"
      ],
      "metadata": {
        "colab": {
          "base_uri": "https://localhost:8080/"
        },
        "id": "Hh56UMhLAuyK",
        "outputId": "7947c93b-02fe-4bf2-ea8c-0d4687527dd1"
      },
      "execution_count": 18,
      "outputs": [
        {
          "output_type": "stream",
          "name": "stdout",
          "text": [
            "original list: [1, 2, 3, 4, 5]\n",
            "modified list: [10, 2, 3, 4, 5]\n",
            "original tuple: (1, 2, 3, 4, 5)\n",
            "Error when modifying tuple: 'tuple' object does not support item assignment\n"
          ]
        }
      ]
    },
    {
      "cell_type": "code",
      "source": [
        "#6.Write a function to demonstrate the behavior of mutable and immutable arguments.\n",
        "def demonstrate_mutability(immutable_arg, mutable_arg):\n",
        "    print(\"Before modification:\")\n",
        "    print(\"Immutable argument:\", immutable_arg)\n",
        "    print(\"Mutable argument:\", mutable_arg)\n",
        "\n",
        "\n",
        "    immutable_arg += 10\n",
        "    mutable_arg.append(100)\n",
        "\n",
        "    print(\"\\nAfter modification:\")\n",
        "    print(\"Immutable argument:\", immutable_arg)\n",
        "    print(\"Mutable argument:\", mutable_arg)\n",
        "\n",
        "immutable_value = 5\n",
        "mutable_value = [1, 2, 3]\n",
        "\n",
        "demonstrate_mutability(immutable_value, mutable_value)\n",
        "\n",
        "print(\"\\nOutside function:\")\n",
        "print(\"Immutable value:\", immutable_value)\n",
        "print(\"Mutable value:\", mutable_value)\n"
      ],
      "metadata": {
        "colab": {
          "base_uri": "https://localhost:8080/"
        },
        "id": "bsnaMIiXDFf2",
        "outputId": "874c479a-192d-4883-90e3-0dc63ed03cde"
      },
      "execution_count": 24,
      "outputs": [
        {
          "output_type": "stream",
          "name": "stdout",
          "text": [
            "Before modification:\n",
            "Immutable argument: 5\n",
            "Mutable argument: [1, 2, 3]\n",
            "\n",
            "After modification:\n",
            "Immutable argument: 15\n",
            "Mutable argument: [1, 2, 3, 100]\n",
            "\n",
            "Outside function:\n",
            "Immutable value: 5\n",
            "Mutable value: [1, 2, 3, 100]\n"
          ]
        }
      ]
    },
    {
      "cell_type": "code",
      "source": [
        "#7.question is same as the previous one.\n",
        "#8.Write a program to demonstrate the use of logical operators.\n",
        "   # logical operators are (and,or,not).\n",
        "a = 10\n",
        "b = 20\n",
        "c = 30\n",
        "# Using 'and' logical operator\n",
        "if a < b and b < c:\n",
        "    print(\"Both conditions are True: a < b and b < c\")\n",
        "\n",
        "# Using 'or' logical operator\n",
        "if a < b or b > c:\n",
        "    print(\"At least one condition is True: a < b or b > c\")\n",
        "\n",
        "# Using 'not' logical operator\n",
        "if not a > c:\n",
        "    print(\"Condition 'a > c' is False, so 'not' makes it True\")\n",
        "\n",
        "# Combining all logical operators\n",
        "if (a < b and b < c) or not a > c:\n",
        "    print(\"Combined condition using 'and', 'or', and 'not' is True\")\n",
        "\n"
      ],
      "metadata": {
        "colab": {
          "base_uri": "https://localhost:8080/"
        },
        "id": "oS8cDuQCFKYs",
        "outputId": "9eee0613-701f-4e58-9568-30c7a75e2a72"
      },
      "execution_count": 25,
      "outputs": [
        {
          "output_type": "stream",
          "name": "stdout",
          "text": [
            "Both conditions are True: a < b and b < c\n",
            "At least one condition is True: a < b or b > c\n",
            "Condition 'a > c' is False, so 'not' makes it True\n",
            "Combined condition using 'and', 'or', and 'not' is True\n"
          ]
        }
      ]
    },
    {
      "cell_type": "code",
      "source": [
        "#9.Write a Python program to convert user input from string to integer, float, and boolean types.\n",
        "user_input = input(\"Enter a value: \")\n",
        "\n",
        "try:\n",
        "    int_value = int(user_input)\n",
        "    print(f\"Converted to integer: {int_value}\")\n",
        "except ValueError:\n",
        "    print(\"Cannot convert to integer.\")\n",
        "\n",
        "try:\n",
        "    float_value = float(user_input)\n",
        "    print(f\"Converted to float: {float_value}\")\n",
        "except ValueError:\n",
        "    print(\"Cannot convert to float.\")\n",
        "\n",
        "boolean_value = bool(user_input)\n",
        "print(f\"Converted to boolean: {boolean_value}\")"
      ],
      "metadata": {
        "colab": {
          "base_uri": "https://localhost:8080/"
        },
        "id": "KoWweucGGnA0",
        "outputId": "b06de22d-6d59-4fa4-d0ab-d334fba1d365"
      },
      "execution_count": 26,
      "outputs": [
        {
          "output_type": "stream",
          "name": "stdout",
          "text": [
            "Enter a value: 456\n",
            "Converted to integer: 456\n",
            "Converted to float: 456.0\n",
            "Converted to boolean: True\n"
          ]
        }
      ]
    },
    {
      "cell_type": "code",
      "source": [
        "#10.Write code to demonstrate type casting with list elements.\n",
        "original_list = [1, 2.5, '3', True]\n",
        "\n",
        "int_list = [int(x) if isinstance(x, (int, float, bool)) else int(float(x)) for x in original_list]\n",
        "\n",
        "str_list = [str(x) for x in original_list]\n",
        "\n",
        "float_list = [float(x) for x in original_list]\n",
        "\n",
        "print(\"Original List:\", original_list)\n",
        "print(\"Converted to Integers:\", int_list)\n",
        "print(\"Converted to Strings:\", str_list)\n",
        "print(\"Converted to Floats:\", float_list)"
      ],
      "metadata": {
        "colab": {
          "base_uri": "https://localhost:8080/"
        },
        "id": "YbDVwyFsIn0C",
        "outputId": "94b14c49-7f29-48e6-aa76-a080af1a8c49"
      },
      "execution_count": 27,
      "outputs": [
        {
          "output_type": "stream",
          "name": "stdout",
          "text": [
            "Original List: [1, 2.5, '3', True]\n",
            "Converted to Integers: [1, 2, 3, 1]\n",
            "Converted to Strings: ['1', '2.5', '3', 'True']\n",
            "Converted to Floats: [1.0, 2.5, 3.0, 1.0]\n"
          ]
        }
      ]
    },
    {
      "cell_type": "code",
      "source": [
        "#11.Write a program that checks if a number is positive, negative, or zero.\n",
        "\n",
        "num = float(input(\"Enter a number: \"))\n",
        "\n",
        "if num > 0:\n",
        "    print(\"The number is positive.\")\n",
        "elif num < 0:\n",
        "    print(\"The number is negative.\")\n",
        "else:\n",
        "    print(\"The number is zero.\")"
      ],
      "metadata": {
        "colab": {
          "base_uri": "https://localhost:8080/"
        },
        "id": "-4abV6jZJ0hO",
        "outputId": "cb400c2d-90cb-4f9e-871f-5de2ba8478a7"
      },
      "execution_count": 28,
      "outputs": [
        {
          "output_type": "stream",
          "name": "stdout",
          "text": [
            "Enter a number: 10\n",
            "The number is positive.\n"
          ]
        }
      ]
    },
    {
      "cell_type": "code",
      "source": [
        "#12.Write a for loop to print numbers from 1 to 10.\n",
        "for num in range(1, 11):\n",
        "    print(num)"
      ],
      "metadata": {
        "colab": {
          "base_uri": "https://localhost:8080/"
        },
        "id": "0X5lDkBnKU2C",
        "outputId": "00d23696-78aa-451a-cbe2-6825c83072b3"
      },
      "execution_count": 29,
      "outputs": [
        {
          "output_type": "stream",
          "name": "stdout",
          "text": [
            "1\n",
            "2\n",
            "3\n",
            "4\n",
            "5\n",
            "6\n",
            "7\n",
            "8\n",
            "9\n",
            "10\n"
          ]
        }
      ]
    },
    {
      "cell_type": "code",
      "source": [
        "#13.Write a Python program to find the sum of all even numbers between 1 and 50.\n",
        "sum_even = 0\n",
        "\n",
        "for num in range(1, 51):\n",
        "    if num % 2 == 0:\n",
        "        sum_even += num\n",
        "print(\"The sum of all even numbers between 1 and 50 is:\", sum_even)"
      ],
      "metadata": {
        "colab": {
          "base_uri": "https://localhost:8080/"
        },
        "id": "60EKLwsbKm_i",
        "outputId": "b77986cb-6861-4736-8509-9bcb9a8858c7"
      },
      "execution_count": 30,
      "outputs": [
        {
          "output_type": "stream",
          "name": "stdout",
          "text": [
            "The sum of all even numbers between 1 and 50 is: 650\n"
          ]
        }
      ]
    },
    {
      "cell_type": "code",
      "source": [
        "#14.Write a program to reverse a string using a while loop.\n",
        "input_string = input(\"Enter a string: \")\n",
        "reversed_string = \"\"\n",
        "index = len(input_string) - 1\n",
        "\n",
        "while index >= 0:\n",
        "    reversed_string += input_string[index]\n",
        "    index -= 1\n",
        "print(\"Reversed string:\", reversed_string)"
      ],
      "metadata": {
        "colab": {
          "base_uri": "https://localhost:8080/"
        },
        "id": "sDdCQ5HILC21",
        "outputId": "5032509a-4989-4d42-921b-34d29db8a3be"
      },
      "execution_count": 31,
      "outputs": [
        {
          "output_type": "stream",
          "name": "stdout",
          "text": [
            "Enter a string: \"hello world\"\n",
            "Reversed string: \"dlrow olleh\"\n"
          ]
        }
      ]
    },
    {
      "cell_type": "code",
      "source": [
        "#15.Write a Python program to calculate the factorial of a number provided by the user using a while loop.\n",
        "num = int(input(\"Enter a number: \"))\n",
        "factorial = 1\n",
        "current_number = 1\n",
        "\n",
        "while current_number <= num:\n",
        "    factorial *= current_number\n",
        "    current_number += 1\n",
        "\n",
        "print(f\"The factorial of {num} is: {factorial}\")"
      ],
      "metadata": {
        "colab": {
          "base_uri": "https://localhost:8080/"
        },
        "id": "LQ-kLnMXL1Qy",
        "outputId": "a9c0d4cb-4cb6-44a9-8692-24c784ec6615"
      },
      "execution_count": 33,
      "outputs": [
        {
          "output_type": "stream",
          "name": "stdout",
          "text": [
            "Enter a number: 6\n",
            "The factorial of 6 is: 720\n"
          ]
        }
      ]
    }
  ]
}